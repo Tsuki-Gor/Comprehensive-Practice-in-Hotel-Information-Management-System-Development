{
 "cells": [
  {
   "cell_type": "code",
   "id": "initial_id",
   "metadata": {
    "collapsed": true,
    "ExecuteTime": {
     "end_time": "2025-03-07T04:08:35.618755Z",
     "start_time": "2025-03-07T04:08:35.614325Z"
    }
   },
   "source": [
    "test = (1,2)\n",
    "test2 = (1,)\n",
    "test3 = (1,2,3)\n",
    "test4 = (1)\n",
    "test5 = tuple([1])"
   ],
   "outputs": [],
   "execution_count": 3
  },
  {
   "metadata": {
    "ExecuteTime": {
     "end_time": "2025-03-07T04:08:37.419441Z",
     "start_time": "2025-03-07T04:08:37.414050Z"
    }
   },
   "cell_type": "code",
   "source": [
    "print(\"test: \",type(test),'-------',test)\n",
    "print(\"test2: \",type(test2),'-------',test2)\n",
    "print(\"test3: \",type(test3),'-------',test3)\n",
    "print(\"test4: \",type(test4),'-------',test4)\n",
    "print(\"test5: \",type(test5),'-------',test5)"
   ],
   "id": "feb9ecfb1172abdc",
   "outputs": [
    {
     "name": "stdout",
     "output_type": "stream",
     "text": [
      "test:  <class 'tuple'> ------- (1, 2)\n",
      "test2:  <class 'tuple'> ------- (1,)\n",
      "test3:  <class 'tuple'> ------- (1, 2, 3)\n",
      "test4:  <class 'int'> ------- 1\n",
      "test5:  <class 'tuple'> ------- (1,)\n"
     ]
    }
   ],
   "execution_count": 4
  }
 ],
 "metadata": {
  "kernelspec": {
   "display_name": "Python 3",
   "language": "python",
   "name": "python3"
  },
  "language_info": {
   "codemirror_mode": {
    "name": "ipython",
    "version": 2
   },
   "file_extension": ".py",
   "mimetype": "text/x-python",
   "name": "python",
   "nbconvert_exporter": "python",
   "pygments_lexer": "ipython2",
   "version": "2.7.6"
  }
 },
 "nbformat": 4,
 "nbformat_minor": 5
}
